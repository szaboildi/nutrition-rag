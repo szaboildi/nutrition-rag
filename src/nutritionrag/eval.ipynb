{
 "cells": [
  {
   "cell_type": "markdown",
   "id": "20ddb3b6",
   "metadata": {},
   "source": [
    "# Establishing a threshold"
   ]
  },
  {
   "cell_type": "markdown",
   "id": "265cd3f6",
   "metadata": {},
   "source": [
    "## Setup\n"
   ]
  },
  {
   "cell_type": "code",
   "execution_count": 3,
   "id": "5fecdbac",
   "metadata": {},
   "outputs": [],
   "source": [
    "import os\n",
    "import pandas as pd\n",
    "pd.set_option('display.max_rows', 20)\n",
    "pd.set_option('display.max_columns', 5)\n",
    "pd.set_option('display.width', 1000)\n",
    "pd.set_option('display.max_colwidth', 200)\n",
    "\n",
    "from nutritionrag.rag_pipeline import rag_setup_qdrant, query_vector_db_list_qdrant, rag_query_list_qdrant"
   ]
  },
  {
   "cell_type": "code",
   "execution_count": 2,
   "id": "6077f9f9",
   "metadata": {},
   "outputs": [
    {
     "name": "stdout",
     "output_type": "stream",
     "text": [
      "/home/szaboildi/code/szaboildi/nutrition-rag\n"
     ]
    },
    {
     "name": "stderr",
     "output_type": "stream",
     "text": [
      "/home/szaboildi/code/szaboildi/nutrition-rag/.venv/lib/python3.10/site-packages/IPython/core/magics/osm.py:417: UserWarning: This is now an optional IPython functionality, setting dhist requires you to install the `pickleshare` library.\n",
      "  self.shell.db['dhist'] = compress_dhist(dhist)[-100:]\n"
     ]
    }
   ],
   "source": [
    "%cd ../.."
   ]
  },
  {
   "cell_type": "code",
   "execution_count": 4,
   "id": "2d8b4901",
   "metadata": {},
   "outputs": [],
   "source": [
    "try:\n",
    "    import tomllib # type: ignore\n",
    "except ModuleNotFoundError:\n",
    "    import tomli as tomllib\n",
    "\n",
    "with open(os.path.join(\"parameters.toml\"), mode=\"rb\") as fp:\n",
    "    config = tomllib.load(fp)\n",
    "\n",
    "config_name = \"default\"\n",
    "from_scratch = False"
   ]
  },
  {
   "cell_type": "code",
   "execution_count": 5,
   "id": "5a574ac0",
   "metadata": {},
   "outputs": [],
   "source": [
    "eval_df = pd.read_csv(os.path.join(\"data\", \"eval\", \"test_questions_raw.csv\"))\n",
    "query_list = eval_df[\"user_question\"].to_list()"
   ]
  },
  {
   "cell_type": "code",
   "execution_count": 7,
   "id": "7d4755d1",
   "metadata": {},
   "outputs": [
    {
     "name": "stdout",
     "output_type": "stream",
     "text": [
      "Vector database loaded\n",
      "RAG setup complete\n"
     ]
    }
   ],
   "source": [
    "vector_db_client, encoder, llm_client = rag_setup_qdrant(\n",
    "    config=config[config_name])"
   ]
  },
  {
   "cell_type": "markdown",
   "id": "7c4c149d",
   "metadata": {},
   "source": [
    "## Retrieval"
   ]
  },
  {
   "cell_type": "code",
   "execution_count": 8,
   "id": "0a5dbf2b",
   "metadata": {},
   "outputs": [],
   "source": [
    "raw_answers = query_vector_db_list_qdrant(\n",
    "    vector_db_client, encoder, query_list,config=config[config_name])"
   ]
  },
  {
   "cell_type": "code",
   "execution_count": 9,
   "id": "3a5e524a",
   "metadata": {},
   "outputs": [],
   "source": [
    "# Data formatting\n",
    "processed_answers = []\n",
    "\n",
    "# unpack the payloads into a single dataframe\n",
    "for i in range(len(raw_answers)):\n",
    "    for doc in raw_answers[i][\"retrieved\"]:\n",
    "        processed_answers.append(\n",
    "            {\"user_question\": raw_answers[i][\"user_question\"],\n",
    "            **doc})\n",
    "\n",
    "processed_answers = pd.DataFrame(processed_answers).merge(eval_df, how=\"inner\")\n",
    "processed_answers_grouped = processed_answers.groupby([\"user_question\", \"answerable\"]).agg({\"cosine\": [\"min\", \"max\"]}).reset_index()\n",
    "processed_answers_grouped.columns = [\"user_question\", \"answerable\", \"min_cosine\", \"max_cosine\"]"
   ]
  },
  {
   "cell_type": "code",
   "execution_count": 10,
   "id": "f365b2b9",
   "metadata": {},
   "outputs": [],
   "source": [
    "# processed_answers.loc[~(processed_answers.answerable)]"
   ]
  },
  {
   "cell_type": "code",
   "execution_count": 11,
   "id": "22217fc6",
   "metadata": {},
   "outputs": [
    {
     "data": {
      "text/html": [
       "<div>\n",
       "<style scoped>\n",
       "    .dataframe tbody tr th:only-of-type {\n",
       "        vertical-align: middle;\n",
       "    }\n",
       "\n",
       "    .dataframe tbody tr th {\n",
       "        vertical-align: top;\n",
       "    }\n",
       "\n",
       "    .dataframe thead th {\n",
       "        text-align: right;\n",
       "    }\n",
       "</style>\n",
       "<table border=\"1\" class=\"dataframe\">\n",
       "  <thead>\n",
       "    <tr style=\"text-align: right;\">\n",
       "      <th></th>\n",
       "      <th>user_question</th>\n",
       "      <th>answerable</th>\n",
       "      <th>min_cosine</th>\n",
       "      <th>max_cosine</th>\n",
       "    </tr>\n",
       "  </thead>\n",
       "  <tbody>\n",
       "    <tr>\n",
       "      <th>0</th>\n",
       "      <td>Are any foods no-go for someone with diabetes?</td>\n",
       "      <td>True</td>\n",
       "      <td>0.905660</td>\n",
       "      <td>0.930672</td>\n",
       "    </tr>\n",
       "    <tr>\n",
       "      <th>1</th>\n",
       "      <td>As a diabetic, should I choose an apple or a cake for dessert?</td>\n",
       "      <td>True</td>\n",
       "      <td>0.857270</td>\n",
       "      <td>0.882059</td>\n",
       "    </tr>\n",
       "    <tr>\n",
       "      <th>2</th>\n",
       "      <td>As a diabetic, should I skip either lunch or dinner?</td>\n",
       "      <td>True</td>\n",
       "      <td>0.887702</td>\n",
       "      <td>0.947247</td>\n",
       "    </tr>\n",
       "    <tr>\n",
       "      <th>3</th>\n",
       "      <td>Can I drink a caramel cappuccino, if I have diabetes?</td>\n",
       "      <td>True</td>\n",
       "      <td>0.872102</td>\n",
       "      <td>0.884836</td>\n",
       "    </tr>\n",
       "    <tr>\n",
       "      <th>4</th>\n",
       "      <td>Can I eat white bread as a diabetic?</td>\n",
       "      <td>True</td>\n",
       "      <td>0.864177</td>\n",
       "      <td>0.885423</td>\n",
       "    </tr>\n",
       "    <tr>\n",
       "      <th>5</th>\n",
       "      <td>Can you eat berries with diabetes?</td>\n",
       "      <td>True</td>\n",
       "      <td>0.870394</td>\n",
       "      <td>0.927814</td>\n",
       "    </tr>\n",
       "    <tr>\n",
       "      <th>6</th>\n",
       "      <td>Can you eat pineapple with diabetes?</td>\n",
       "      <td>True</td>\n",
       "      <td>0.864517</td>\n",
       "      <td>0.897337</td>\n",
       "    </tr>\n",
       "    <tr>\n",
       "      <th>7</th>\n",
       "      <td>I'm considering intermittent fasting. Could it help me maintain my blood sugar?</td>\n",
       "      <td>True</td>\n",
       "      <td>0.878517</td>\n",
       "      <td>0.919834</td>\n",
       "    </tr>\n",
       "    <tr>\n",
       "      <th>8</th>\n",
       "      <td>Is it better to have a high blood sugar or a low blood sugar?</td>\n",
       "      <td>True</td>\n",
       "      <td>0.880271</td>\n",
       "      <td>0.911115</td>\n",
       "    </tr>\n",
       "    <tr>\n",
       "      <th>9</th>\n",
       "      <td>Should I not eat carbohydrates at all as a diabetic?</td>\n",
       "      <td>True</td>\n",
       "      <td>0.904620</td>\n",
       "      <td>0.948491</td>\n",
       "    </tr>\n",
       "    <tr>\n",
       "      <th>10</th>\n",
       "      <td>Should I not eat carbs at all as a diabetic?</td>\n",
       "      <td>True</td>\n",
       "      <td>0.907146</td>\n",
       "      <td>0.955891</td>\n",
       "    </tr>\n",
       "    <tr>\n",
       "      <th>11</th>\n",
       "      <td>What can I eat to raise my blood sugar?</td>\n",
       "      <td>True</td>\n",
       "      <td>0.938125</td>\n",
       "      <td>0.961490</td>\n",
       "    </tr>\n",
       "    <tr>\n",
       "      <th>12</th>\n",
       "      <td>What sports are best for people with diabetes?</td>\n",
       "      <td>False</td>\n",
       "      <td>0.876008</td>\n",
       "      <td>0.890857</td>\n",
       "    </tr>\n",
       "    <tr>\n",
       "      <th>13</th>\n",
       "      <td>What's a good lunch for someone with diabetes?</td>\n",
       "      <td>False</td>\n",
       "      <td>0.924290</td>\n",
       "      <td>0.944526</td>\n",
       "    </tr>\n",
       "    <tr>\n",
       "      <th>14</th>\n",
       "      <td>What's your favorite snack?</td>\n",
       "      <td>False</td>\n",
       "      <td>0.834175</td>\n",
       "      <td>0.892060</td>\n",
       "    </tr>\n",
       "  </tbody>\n",
       "</table>\n",
       "</div>"
      ],
      "text/plain": [
       "                                                                      user_question  answerable  min_cosine  max_cosine\n",
       "0                                    Are any foods no-go for someone with diabetes?        True    0.905660    0.930672\n",
       "1                    As a diabetic, should I choose an apple or a cake for dessert?        True    0.857270    0.882059\n",
       "2                              As a diabetic, should I skip either lunch or dinner?        True    0.887702    0.947247\n",
       "3                             Can I drink a caramel cappuccino, if I have diabetes?        True    0.872102    0.884836\n",
       "4                                              Can I eat white bread as a diabetic?        True    0.864177    0.885423\n",
       "5                                                Can you eat berries with diabetes?        True    0.870394    0.927814\n",
       "6                                              Can you eat pineapple with diabetes?        True    0.864517    0.897337\n",
       "7   I'm considering intermittent fasting. Could it help me maintain my blood sugar?        True    0.878517    0.919834\n",
       "8                     Is it better to have a high blood sugar or a low blood sugar?        True    0.880271    0.911115\n",
       "9                              Should I not eat carbohydrates at all as a diabetic?        True    0.904620    0.948491\n",
       "10                                     Should I not eat carbs at all as a diabetic?        True    0.907146    0.955891\n",
       "11                                          What can I eat to raise my blood sugar?        True    0.938125    0.961490\n",
       "12                                   What sports are best for people with diabetes?       False    0.876008    0.890857\n",
       "13                                   What's a good lunch for someone with diabetes?       False    0.924290    0.944526\n",
       "14                                                      What's your favorite snack?       False    0.834175    0.892060"
      ]
     },
     "execution_count": 11,
     "metadata": {},
     "output_type": "execute_result"
    }
   ],
   "source": [
    "processed_answers_grouped"
   ]
  },
  {
   "cell_type": "markdown",
   "id": "37af7951",
   "metadata": {},
   "source": [
    "Based on these questions there is no consistent boundary that could be established as a cutoff for a minimum cosine similarity (with these embeddings). If the cutoff is chosen at for example 0.9, that suggests that questions #1 () and #4 (\"Can I eat white bread as a diabetic?\")cannot be answered based on the provided data, where  "
   ]
  },
  {
   "cell_type": "markdown",
   "id": "737ee384",
   "metadata": {},
   "source": [
    "## RAG"
   ]
  },
  {
   "cell_type": "code",
   "execution_count": null,
   "id": "ae1cbfea",
   "metadata": {},
   "outputs": [],
   "source": [
    "rag_responses = rag_query_list_qdrant(\n",
    "    query_list, vector_db_client, encoder, llm_client, config[config_name])"
   ]
  },
  {
   "cell_type": "code",
   "execution_count": 13,
   "id": "dbd33f9d",
   "metadata": {},
   "outputs": [],
   "source": [
    "qa_df = pd.DataFrame({\"user_question\": rag_responses[0], \"llm_response\": rag_responses[1]})\n",
    "qa_df_meta = pd.DataFrame([{**item, \"user_question\": row[\"user_question\"]} for row in rag_responses[2] for item in row[\"retrieved\"]])\n",
    "\n",
    "rag_df_processed = qa_df.merge(qa_df_meta, how=\"inner\")"
   ]
  },
  {
   "cell_type": "code",
   "execution_count": 14,
   "id": "d7573b6b",
   "metadata": {},
   "outputs": [
    {
     "data": {
      "text/html": [
       "<div>\n",
       "<style scoped>\n",
       "    .dataframe tbody tr th:only-of-type {\n",
       "        vertical-align: middle;\n",
       "    }\n",
       "\n",
       "    .dataframe tbody tr th {\n",
       "        vertical-align: top;\n",
       "    }\n",
       "\n",
       "    .dataframe thead th {\n",
       "        text-align: right;\n",
       "    }\n",
       "</style>\n",
       "<table border=\"1\" class=\"dataframe\">\n",
       "  <thead>\n",
       "    <tr style=\"text-align: right;\">\n",
       "      <th></th>\n",
       "      <th>user_question</th>\n",
       "      <th>llm_response</th>\n",
       "      <th>question</th>\n",
       "      <th>answer</th>\n",
       "      <th>cosine</th>\n",
       "    </tr>\n",
       "  </thead>\n",
       "  <tbody>\n",
       "    <tr>\n",
       "      <th>0</th>\n",
       "      <td>Are any foods no-go for someone with diabetes?</td>\n",
       "      <td>Avoid sugary drinks, processed snacks, white bread, and high-sugar desserts.</td>\n",
       "      <td>Are there any foods I should stay away from with diabetes?</td>\n",
       "      <td>Avoid sugary drinks, processed snacks, white bread, and high-sugar desserts.</td>\n",
       "      <td>0.930672</td>\n",
       "    </tr>\n",
       "    <tr>\n",
       "      <th>1</th>\n",
       "      <td>Are any foods no-go for someone with diabetes?</td>\n",
       "      <td>Avoid sugary drinks, processed snacks, white bread, and high-sugar desserts.</td>\n",
       "      <td>What are some unhealthy foods for people with diabetes?</td>\n",
       "      <td>Avoid sugary drinks, processed snacks, white bread, and high-sugar desserts.</td>\n",
       "      <td>0.929724</td>\n",
       "    </tr>\n",
       "    <tr>\n",
       "      <th>2</th>\n",
       "      <td>Are any foods no-go for someone with diabetes?</td>\n",
       "      <td>Avoid sugary drinks, processed snacks, white bread, and high-sugar desserts.</td>\n",
       "      <td>What should diabetics not eat?</td>\n",
       "      <td>Avoid sugary drinks, processed snacks, white bread, and high-sugar desserts.</td>\n",
       "      <td>0.923179</td>\n",
       "    </tr>\n",
       "    <tr>\n",
       "      <th>3</th>\n",
       "      <td>Are any foods no-go for someone with diabetes?</td>\n",
       "      <td>Avoid sugary drinks, processed snacks, white bread, and high-sugar desserts.</td>\n",
       "      <td>What foods should I avoid as a diabetic?</td>\n",
       "      <td>Avoid sugary drinks, processed snacks, white bread, and high-sugar desserts.</td>\n",
       "      <td>0.920402</td>\n",
       "    </tr>\n",
       "    <tr>\n",
       "      <th>4</th>\n",
       "      <td>Are any foods no-go for someone with diabetes?</td>\n",
       "      <td>Avoid sugary drinks, processed snacks, white bread, and high-sugar desserts.</td>\n",
       "      <td>Are there low-sugar snacks that are good for people with diabetes?</td>\n",
       "      <td>Healthy snack options include Greek yogurt, almonds, boiled eggs, and vegetables with hummus.</td>\n",
       "      <td>0.905660</td>\n",
       "    </tr>\n",
       "    <tr>\n",
       "      <th>...</th>\n",
       "      <td>...</td>\n",
       "      <td>...</td>\n",
       "      <td>...</td>\n",
       "      <td>...</td>\n",
       "      <td>...</td>\n",
       "    </tr>\n",
       "    <tr>\n",
       "      <th>70</th>\n",
       "      <td>Should I not eat carbohydrates at all as a diabetic?</td>\n",
       "      <td>Yes, but focus on complex carbs like whole grains, legumes, and vegetables, and control portions.</td>\n",
       "      <td>Should I avoid all carbs with diabetes?</td>\n",
       "      <td>Yes, but focus on complex carbs like whole grains, legumes, and vegetables, and control portions.</td>\n",
       "      <td>0.948491</td>\n",
       "    </tr>\n",
       "    <tr>\n",
       "      <th>71</th>\n",
       "      <td>Should I not eat carbohydrates at all as a diabetic?</td>\n",
       "      <td>Yes, but focus on complex carbs like whole grains, legumes, and vegetables, and control portions.</td>\n",
       "      <td>Can I eat carbs if I have diabetes?</td>\n",
       "      <td>Yes, but focus on complex carbs like whole grains, legumes, and vegetables, and control portions.</td>\n",
       "      <td>0.929237</td>\n",
       "    </tr>\n",
       "    <tr>\n",
       "      <th>72</th>\n",
       "      <td>Should I not eat carbohydrates at all as a diabetic?</td>\n",
       "      <td>Yes, but focus on complex carbs like whole grains, legumes, and vegetables, and control portions.</td>\n",
       "      <td>Are carbohydrates bad for diabetics?</td>\n",
       "      <td>Yes, but focus on complex carbs like whole grains, legumes, and vegetables, and control portions.</td>\n",
       "      <td>0.923894</td>\n",
       "    </tr>\n",
       "    <tr>\n",
       "      <th>73</th>\n",
       "      <td>Should I not eat carbohydrates at all as a diabetic?</td>\n",
       "      <td>Yes, but focus on complex carbs like whole grains, legumes, and vegetables, and control portions.</td>\n",
       "      <td>What should diabetics not eat?</td>\n",
       "      <td>Avoid sugary drinks, processed snacks, white bread, and high-sugar desserts.</td>\n",
       "      <td>0.905080</td>\n",
       "    </tr>\n",
       "    <tr>\n",
       "      <th>74</th>\n",
       "      <td>Should I not eat carbohydrates at all as a diabetic?</td>\n",
       "      <td>Yes, but focus on complex carbs like whole grains, legumes, and vegetables, and control portions.</td>\n",
       "      <td>Should I avoid skipping meals as a diabetic?</td>\n",
       "      <td>Skipping meals can lead to low blood sugar. It's better to eat regularly and plan meals carefully.</td>\n",
       "      <td>0.904620</td>\n",
       "    </tr>\n",
       "  </tbody>\n",
       "</table>\n",
       "<p>75 rows × 5 columns</p>\n",
       "</div>"
      ],
      "text/plain": [
       "                                           user_question                                                                                       llm_response                                                            question                                                                                              answer    cosine\n",
       "0         Are any foods no-go for someone with diabetes?                       Avoid sugary drinks, processed snacks, white bread, and high-sugar desserts.          Are there any foods I should stay away from with diabetes?                        Avoid sugary drinks, processed snacks, white bread, and high-sugar desserts.  0.930672\n",
       "1         Are any foods no-go for someone with diabetes?                       Avoid sugary drinks, processed snacks, white bread, and high-sugar desserts.             What are some unhealthy foods for people with diabetes?                        Avoid sugary drinks, processed snacks, white bread, and high-sugar desserts.  0.929724\n",
       "2         Are any foods no-go for someone with diabetes?                       Avoid sugary drinks, processed snacks, white bread, and high-sugar desserts.                                      What should diabetics not eat?                        Avoid sugary drinks, processed snacks, white bread, and high-sugar desserts.  0.923179\n",
       "3         Are any foods no-go for someone with diabetes?                       Avoid sugary drinks, processed snacks, white bread, and high-sugar desserts.                            What foods should I avoid as a diabetic?                        Avoid sugary drinks, processed snacks, white bread, and high-sugar desserts.  0.920402\n",
       "4         Are any foods no-go for someone with diabetes?                       Avoid sugary drinks, processed snacks, white bread, and high-sugar desserts.  Are there low-sugar snacks that are good for people with diabetes?       Healthy snack options include Greek yogurt, almonds, boiled eggs, and vegetables with hummus.  0.905660\n",
       "..                                                   ...                                                                                                ...                                                                 ...                                                                                                 ...       ...\n",
       "70  Should I not eat carbohydrates at all as a diabetic?  Yes, but focus on complex carbs like whole grains, legumes, and vegetables, and control portions.                             Should I avoid all carbs with diabetes?   Yes, but focus on complex carbs like whole grains, legumes, and vegetables, and control portions.  0.948491\n",
       "71  Should I not eat carbohydrates at all as a diabetic?  Yes, but focus on complex carbs like whole grains, legumes, and vegetables, and control portions.                                 Can I eat carbs if I have diabetes?   Yes, but focus on complex carbs like whole grains, legumes, and vegetables, and control portions.  0.929237\n",
       "72  Should I not eat carbohydrates at all as a diabetic?  Yes, but focus on complex carbs like whole grains, legumes, and vegetables, and control portions.                                Are carbohydrates bad for diabetics?   Yes, but focus on complex carbs like whole grains, legumes, and vegetables, and control portions.  0.923894\n",
       "73  Should I not eat carbohydrates at all as a diabetic?  Yes, but focus on complex carbs like whole grains, legumes, and vegetables, and control portions.                                      What should diabetics not eat?                        Avoid sugary drinks, processed snacks, white bread, and high-sugar desserts.  0.905080\n",
       "74  Should I not eat carbohydrates at all as a diabetic?  Yes, but focus on complex carbs like whole grains, legumes, and vegetables, and control portions.                        Should I avoid skipping meals as a diabetic?  Skipping meals can lead to low blood sugar. It's better to eat regularly and plan meals carefully.  0.904620\n",
       "\n",
       "[75 rows x 5 columns]"
      ]
     },
     "execution_count": 14,
     "metadata": {},
     "output_type": "execute_result"
    }
   ],
   "source": [
    "rag_df_processed"
   ]
  },
  {
   "cell_type": "code",
   "execution_count": 15,
   "id": "3f1b5738",
   "metadata": {},
   "outputs": [
    {
     "name": "stdout",
     "output_type": "stream",
     "text": [
      "Are any foods no-go for someone with diabetes?\n",
      "Avoid sugary drinks, processed snacks, white bread, and high-sugar desserts.\n",
      "\n",
      "Can you eat berries with diabetes?\n",
      "Yes, you can eat berries with diabetes. They are a good option due to their fiber content, but just watch portion sizes.\n",
      "\n",
      "Can you eat pineapple with diabetes?\n",
      "Sorry, I don't have information on that. Please try a different question.\n",
      "\n",
      "Can I eat white bread as a diabetic?\n",
      "Sorry, I don't have information on that. Please try a different question.\n",
      "\n",
      "What's a good lunch for someone with diabetes?\n",
      "Sorry, I don't have information on that. Please try a different question.\n",
      "\n",
      "Can I drink a caramel cappuccino, if I have diabetes?\n",
      "Sorry, I don't have information on that. Please try a different question.\n",
      "\n",
      "I'm considering intermittent fasting. Could it help me maintain my blood sugar?\n",
      "It depends on the individual and medication. Always consult a healthcare provider before starting any fasting regimen.\n",
      "\n",
      "What's your favorite snack?\n",
      "Sorry, I don't have information on that. Please try a different question.\n",
      "\n",
      "As a diabetic, should I choose an apple or a cake for dessert?\n",
      "Choosing an apple for dessert would be a better option for a diabetic compared to cake, as apples are a good source of fiber and can be part of a healthy diet. Just be mindful of portion sizes.\n",
      "\n",
      "As a diabetic, should I skip either lunch or dinner?\n",
      "Skipping meals can lead to low blood sugar. It's better to eat regularly and plan meals carefully.\n",
      "\n",
      "What sports are best for people with diabetes?\n",
      "Sorry, I don't have information on that. Please try a different question.\n",
      "\n",
      "Is it better to have a high blood sugar or a low blood sugar?\n",
      "Sorry, I don't have information on that. Please try a different question.\n",
      "\n",
      "What can I eat to raise my blood sugar?\n",
      "Sorry, I don't have information on that. Please try a different question.\n",
      "\n",
      "Should I not eat carbs at all as a diabetic?\n",
      "Yes, but focus on complex carbs like whole grains, legumes, and vegetables, and control portions.\n",
      "\n",
      "Should I not eat carbohydrates at all as a diabetic?\n",
      "Yes, but focus on complex carbs like whole grains, legumes, and vegetables, and control portions.\n",
      "\n"
     ]
    }
   ],
   "source": [
    "for i, row in rag_df_processed[[\"user_question\", \"llm_response\"]].drop_duplicates().iterrows():\n",
    "    print(row[\"user_question\"])\n",
    "    print(row[\"llm_response\"])\n",
    "    print(\"\")"
   ]
  }
 ],
 "metadata": {
  "kernelspec": {
   "display_name": ".venv",
   "language": "python",
   "name": "python3"
  },
  "language_info": {
   "codemirror_mode": {
    "name": "ipython",
    "version": 3
   },
   "file_extension": ".py",
   "mimetype": "text/x-python",
   "name": "python",
   "nbconvert_exporter": "python",
   "pygments_lexer": "ipython3",
   "version": "3.10.6"
  }
 },
 "nbformat": 4,
 "nbformat_minor": 5
}
