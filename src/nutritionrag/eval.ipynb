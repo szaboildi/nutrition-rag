{
 "cells": [
  {
   "cell_type": "markdown",
   "id": "20ddb3b6",
   "metadata": {},
   "source": [
    "# Establishing a threshold"
   ]
  },
  {
   "cell_type": "markdown",
   "id": "265cd3f6",
   "metadata": {},
   "source": [
    "## Setup\n"
   ]
  },
  {
   "cell_type": "code",
   "execution_count": 1,
   "id": "5fecdbac",
   "metadata": {},
   "outputs": [
    {
     "name": "stderr",
     "output_type": "stream",
     "text": [
      "/home/szaboildi/code/szaboildi/nutrition-rag/.venv/lib/python3.10/site-packages/tqdm/auto.py:21: TqdmWarning: IProgress not found. Please update jupyter and ipywidgets. See https://ipywidgets.readthedocs.io/en/stable/user_install.html\n",
      "  from .autonotebook import tqdm as notebook_tqdm\n"
     ]
    }
   ],
   "source": [
    "import os\n",
    "import pandas as pd\n",
    "\n",
    "from nutritionrag.rag_pipeline import rag_setup_qdrant, query_vector_db_list_qdrant, rag_query_list_qdrant"
   ]
  },
  {
   "cell_type": "code",
   "execution_count": 2,
   "id": "6077f9f9",
   "metadata": {},
   "outputs": [
    {
     "name": "stdout",
     "output_type": "stream",
     "text": [
      "/home/szaboildi/code/szaboildi/nutrition-rag\n"
     ]
    },
    {
     "name": "stderr",
     "output_type": "stream",
     "text": [
      "/home/szaboildi/code/szaboildi/nutrition-rag/.venv/lib/python3.10/site-packages/IPython/core/magics/osm.py:417: UserWarning: This is now an optional IPython functionality, setting dhist requires you to install the `pickleshare` library.\n",
      "  self.shell.db['dhist'] = compress_dhist(dhist)[-100:]\n"
     ]
    }
   ],
   "source": [
    "%cd ../.."
   ]
  },
  {
   "cell_type": "code",
   "execution_count": 3,
   "id": "2d8b4901",
   "metadata": {},
   "outputs": [],
   "source": [
    "try:\n",
    "    import tomllib # type: ignore\n",
    "except ModuleNotFoundError:\n",
    "    import tomli as tomllib\n",
    "\n",
    "with open(os.path.join(\"parameters.toml\"), mode=\"rb\") as fp:\n",
    "    config = tomllib.load(fp)\n",
    "\n",
    "config_name = \"default\"\n",
    "from_scratch = False"
   ]
  },
  {
   "cell_type": "code",
   "execution_count": 4,
   "id": "5a574ac0",
   "metadata": {},
   "outputs": [],
   "source": [
    "eval_df = pd.read_csv(os.path.join(\"data\", \"eval\", \"test_questions_raw.csv\"))\n",
    "query_list = eval_df[\"user_question\"].to_list()"
   ]
  },
  {
   "cell_type": "code",
   "execution_count": 5,
   "id": "7d4755d1",
   "metadata": {},
   "outputs": [
    {
     "name": "stdout",
     "output_type": "stream",
     "text": [
      "Vector database loaded\n",
      "RAG setup complete\n"
     ]
    }
   ],
   "source": [
    "# Setup\n",
    "# vector_db_client, encoder = setup_vector_db(\n",
    "#     encoder_name=config[config_name][\"encoder_name\"],\n",
    "#     client_source=config[config_name][\"client_source\"],\n",
    "#     qdrant_cloud_api_key=os.environ.get(\"QDRANT_CLOUD_API_KEY\"),\n",
    "#     from_scratch=from_scratch,\n",
    "#     input_folder=config[config_name][\"input_text_folder\"],\n",
    "#     collection_name=config[config_name][\"collection_name\"],\n",
    "#     dist_name=config[config_name][\"distance_type\"],\n",
    "#     input_folder_qa=config[config_name][\"input_folder_qa\"]\n",
    "# )\n",
    "\n",
    "vector_db_client, encoder, llm_client = rag_setup_qdrant(\n",
    "    config=config[config_name], from_scratch=from_scratch)"
   ]
  },
  {
   "cell_type": "markdown",
   "id": "7c4c149d",
   "metadata": {},
   "source": [
    "## Retrieval"
   ]
  },
  {
   "cell_type": "code",
   "execution_count": 6,
   "id": "0a5dbf2b",
   "metadata": {},
   "outputs": [],
   "source": [
    "raw_answers = query_vector_db_list_qdrant(\n",
    "    vector_db_client, encoder, query_list,\n",
    "    collection_name=config[config_name][\"collection_name\"],\n",
    "    # k=config[config_name][\"retrieve_k\"]\n",
    "    k=10)"
   ]
  },
  {
   "cell_type": "code",
   "execution_count": null,
   "id": "3a5e524a",
   "metadata": {},
   "outputs": [],
   "source": [
    "# Data formatting\n",
    "processed_answers = []\n",
    "\n",
    "# unpack the payloads into a single dataframe\n",
    "for i in range(len(raw_answers)):\n",
    "    for doc in raw_answers[i][\"retrieved\"]:\n",
    "        processed_answers.append(\n",
    "            {\"user_question\": raw_answers[i][\"user_question\"],\n",
    "            **doc})\n",
    "\n",
    "processed_answers = pd.DataFrame(processed_answers).merge(eval_df, how=\"inner\")\n",
    "processed_answers_grouped = processed_answers.groupby([\"user_question\", \"answerable\"]).agg({\"cosine\": [\"min\", \"max\"]}).reset_index()\n",
    "processed_answers_grouped.columns = [\"user_question\", \"answerable\", \"min_cosine\", \"max_cosine\"]"
   ]
  },
  {
   "cell_type": "code",
   "execution_count": 8,
   "id": "f365b2b9",
   "metadata": {},
   "outputs": [],
   "source": [
    "# processed_answers.loc[~(processed_answers.answerable)]"
   ]
  },
  {
   "cell_type": "code",
   "execution_count": null,
   "id": "22217fc6",
   "metadata": {},
   "outputs": [
    {
     "data": {
      "text/html": [
       "<div>\n",
       "<style scoped>\n",
       "    .dataframe tbody tr th:only-of-type {\n",
       "        vertical-align: middle;\n",
       "    }\n",
       "\n",
       "    .dataframe tbody tr th {\n",
       "        vertical-align: top;\n",
       "    }\n",
       "\n",
       "    .dataframe thead th {\n",
       "        text-align: right;\n",
       "    }\n",
       "</style>\n",
       "<table border=\"1\" class=\"dataframe\">\n",
       "  <thead>\n",
       "    <tr style=\"text-align: right;\">\n",
       "      <th></th>\n",
       "      <th>user_question</th>\n",
       "      <th>answerable</th>\n",
       "      <th>min_cosine</th>\n",
       "      <th>max_cosine</th>\n",
       "    </tr>\n",
       "  </thead>\n",
       "  <tbody>\n",
       "    <tr>\n",
       "      <th>0</th>\n",
       "      <td>Are any foods no-go for someone with diabetes?</td>\n",
       "      <td>True</td>\n",
       "      <td>0.888712</td>\n",
       "      <td>0.930672</td>\n",
       "    </tr>\n",
       "    <tr>\n",
       "      <th>1</th>\n",
       "      <td>As a diabetic, should I choose an apple or a c...</td>\n",
       "      <td>True</td>\n",
       "      <td>0.848290</td>\n",
       "      <td>0.882059</td>\n",
       "    </tr>\n",
       "    <tr>\n",
       "      <th>2</th>\n",
       "      <td>As a diabetic, should I skip either lunch or d...</td>\n",
       "      <td>True</td>\n",
       "      <td>0.880976</td>\n",
       "      <td>0.947247</td>\n",
       "    </tr>\n",
       "    <tr>\n",
       "      <th>3</th>\n",
       "      <td>Can I drink a caramel cappuccino, if I have di...</td>\n",
       "      <td>True</td>\n",
       "      <td>0.852998</td>\n",
       "      <td>0.884836</td>\n",
       "    </tr>\n",
       "    <tr>\n",
       "      <th>4</th>\n",
       "      <td>Can I eat white bread as a diabetic?</td>\n",
       "      <td>True</td>\n",
       "      <td>0.859596</td>\n",
       "      <td>0.885423</td>\n",
       "    </tr>\n",
       "    <tr>\n",
       "      <th>5</th>\n",
       "      <td>Can you eat berries with diabetes?</td>\n",
       "      <td>True</td>\n",
       "      <td>0.856233</td>\n",
       "      <td>0.927814</td>\n",
       "    </tr>\n",
       "    <tr>\n",
       "      <th>6</th>\n",
       "      <td>Can you eat pineapple with diabetes?</td>\n",
       "      <td>True</td>\n",
       "      <td>0.846195</td>\n",
       "      <td>0.897337</td>\n",
       "    </tr>\n",
       "    <tr>\n",
       "      <th>7</th>\n",
       "      <td>I'm considering intermittent fasting. Could it...</td>\n",
       "      <td>True</td>\n",
       "      <td>0.861049</td>\n",
       "      <td>0.919834</td>\n",
       "    </tr>\n",
       "    <tr>\n",
       "      <th>8</th>\n",
       "      <td>Is it better to have a high blood sugar or a l...</td>\n",
       "      <td>True</td>\n",
       "      <td>0.864648</td>\n",
       "      <td>0.911115</td>\n",
       "    </tr>\n",
       "    <tr>\n",
       "      <th>9</th>\n",
       "      <td>Should I not eat carbohydrates at all as a dia...</td>\n",
       "      <td>True</td>\n",
       "      <td>0.889108</td>\n",
       "      <td>0.948491</td>\n",
       "    </tr>\n",
       "    <tr>\n",
       "      <th>10</th>\n",
       "      <td>Should I not eat carbs at all as a diabetic?</td>\n",
       "      <td>True</td>\n",
       "      <td>0.890698</td>\n",
       "      <td>0.955891</td>\n",
       "    </tr>\n",
       "    <tr>\n",
       "      <th>11</th>\n",
       "      <td>What can I eat to raise my blood sugar?</td>\n",
       "      <td>True</td>\n",
       "      <td>0.920079</td>\n",
       "      <td>0.961490</td>\n",
       "    </tr>\n",
       "    <tr>\n",
       "      <th>12</th>\n",
       "      <td>What sports are best for people with diabetes?</td>\n",
       "      <td>False</td>\n",
       "      <td>0.869026</td>\n",
       "      <td>0.890857</td>\n",
       "    </tr>\n",
       "    <tr>\n",
       "      <th>13</th>\n",
       "      <td>What's a good lunch for someone with diabetes?</td>\n",
       "      <td>False</td>\n",
       "      <td>0.911892</td>\n",
       "      <td>0.944526</td>\n",
       "    </tr>\n",
       "    <tr>\n",
       "      <th>14</th>\n",
       "      <td>What's your favorite snack?</td>\n",
       "      <td>False</td>\n",
       "      <td>0.823280</td>\n",
       "      <td>0.892060</td>\n",
       "    </tr>\n",
       "  </tbody>\n",
       "</table>\n",
       "</div>"
      ],
      "text/plain": [
       "                                        user_question  answerable  min_cosine  \\\n",
       "0      Are any foods no-go for someone with diabetes?        True    0.888712   \n",
       "1   As a diabetic, should I choose an apple or a c...        True    0.848290   \n",
       "2   As a diabetic, should I skip either lunch or d...        True    0.880976   \n",
       "3   Can I drink a caramel cappuccino, if I have di...        True    0.852998   \n",
       "4                Can I eat white bread as a diabetic?        True    0.859596   \n",
       "5                  Can you eat berries with diabetes?        True    0.856233   \n",
       "6                Can you eat pineapple with diabetes?        True    0.846195   \n",
       "7   I'm considering intermittent fasting. Could it...        True    0.861049   \n",
       "8   Is it better to have a high blood sugar or a l...        True    0.864648   \n",
       "9   Should I not eat carbohydrates at all as a dia...        True    0.889108   \n",
       "10       Should I not eat carbs at all as a diabetic?        True    0.890698   \n",
       "11            What can I eat to raise my blood sugar?        True    0.920079   \n",
       "12     What sports are best for people with diabetes?       False    0.869026   \n",
       "13     What's a good lunch for someone with diabetes?       False    0.911892   \n",
       "14                        What's your favorite snack?       False    0.823280   \n",
       "\n",
       "    max_cosine  \n",
       "0     0.930672  \n",
       "1     0.882059  \n",
       "2     0.947247  \n",
       "3     0.884836  \n",
       "4     0.885423  \n",
       "5     0.927814  \n",
       "6     0.897337  \n",
       "7     0.919834  \n",
       "8     0.911115  \n",
       "9     0.948491  \n",
       "10    0.955891  \n",
       "11    0.961490  \n",
       "12    0.890857  \n",
       "13    0.944526  \n",
       "14    0.892060  "
      ]
     },
     "execution_count": 10,
     "metadata": {},
     "output_type": "execute_result"
    }
   ],
   "source": [
    "processed_answers_grouped"
   ]
  },
  {
   "cell_type": "code",
   "execution_count": 14,
   "id": "cec15236",
   "metadata": {},
   "outputs": [
    {
     "name": "stdout",
     "output_type": "stream",
     "text": [
      "/home/szaboildi/code/szaboildi/nutrition-rag/.venv/bin/python: No module named pip\n"
     ]
    },
    {
     "name": "stderr",
     "output_type": "stream",
     "text": [
      "huggingface/tokenizers: The current process just got forked, after parallelism has already been used. Disabling parallelism to avoid deadlocks...\n",
      "To disable this warning, you can either:\n",
      "\t- Avoid using `tokenizers` before the fork if possible\n",
      "\t- Explicitly set the environment variable TOKENIZERS_PARALLELISM=(true | false)\n"
     ]
    },
    {
     "name": "stdout",
     "output_type": "stream",
     "text": [
      "Note: you may need to restart the kernel to use updated packages.\n"
     ]
    },
    {
     "data": {
      "text/plain": [
       "<Axes: ylabel='max_cosine'>"
      ]
     },
     "execution_count": 14,
     "metadata": {},
     "output_type": "execute_result"
    },
    {
     "data": {
      "image/png": "[encoded data removed]",
      "text/plain": [
       "<Figure size 640x480 with 1 Axes>"
      ]
     },
     "metadata": {},
     "output_type": "display_data"
    }
   ],
   "source": [
    "%pip install seaborn\n",
    "import seaborn as sns\n",
    "\n",
    "\n",
    "sns.swarmplot(data=processed_answers_grouped, y=\"max_cosine\", hue=\"answerable\")"
   ]
  },
  {
   "cell_type": "markdown",
   "id": "737ee384",
   "metadata": {},
   "source": [
    "## RAG"
   ]
  },
  {
   "cell_type": "code",
   "execution_count": 16,
   "id": "ae1cbfea",
   "metadata": {},
   "outputs": [
    {
     "name": "stdout",
     "output_type": "stream",
     "text": [
      "Documents retrieved\n",
      "Documents retrieved\n",
      "Documents retrieved\n",
      "Documents retrieved\n",
      "Documents retrieved\n",
      "Documents retrieved\n",
      "Documents retrieved\n",
      "Documents retrieved\n",
      "Documents retrieved\n",
      "Documents retrieved\n",
      "Documents retrieved\n",
      "Documents retrieved\n",
      "Documents retrieved\n",
      "Documents retrieved\n",
      "Documents retrieved\n"
     ]
    }
   ],
   "source": [
    "rag_responses = rag_query_list_qdrant(\n",
    "    query_list, vector_db_client, encoder, llm_client, config[config_name])"
   ]
  },
  {
   "cell_type": "code",
   "execution_count": 11,
   "id": "dbd33f9d",
   "metadata": {},
   "outputs": [],
   "source": [
    "qa_df = pd.DataFrame({\"user_question\": rag_responses[0], \"llm_response\": rag_responses[1]})\n",
    "qa_df_meta = pd.DataFrame([{**item, \"user_question\": row[\"user_question\"]} for row in rag_responses[2] for item in row[\"retrieved\"]])\n",
    "\n",
    "rag_df_processed = qa_df.merge(qa_df_meta, how=\"inner\")"
   ]
  },
  {
   "cell_type": "code",
   "execution_count": 12,
   "id": "d7573b6b",
   "metadata": {},
   "outputs": [
    {
     "data": {
      "text/html": [
       "<div>\n",
       "<style scoped>\n",
       "    .dataframe tbody tr th:only-of-type {\n",
       "        vertical-align: middle;\n",
       "    }\n",
       "\n",
       "    .dataframe tbody tr th {\n",
       "        vertical-align: top;\n",
       "    }\n",
       "\n",
       "    .dataframe thead th {\n",
       "        text-align: right;\n",
       "    }\n",
       "</style>\n",
       "<table border=\"1\" class=\"dataframe\">\n",
       "  <thead>\n",
       "    <tr style=\"text-align: right;\">\n",
       "      <th></th>\n",
       "      <th>user_question</th>\n",
       "      <th>llm_response</th>\n",
       "      <th>question</th>\n",
       "      <th>answer</th>\n",
       "      <th>cosine</th>\n",
       "    </tr>\n",
       "  </thead>\n",
       "  <tbody>\n",
       "    <tr>\n",
       "      <th>0</th>\n",
       "      <td>Are any foods no-go for someone with diabetes?</td>\n",
       "      <td>Avoid sugary drinks, processed snacks, white b...</td>\n",
       "      <td>Are there any foods I should stay away from wi...</td>\n",
       "      <td>Avoid sugary drinks, processed snacks, white b...</td>\n",
       "      <td>0.930672</td>\n",
       "    </tr>\n",
       "    <tr>\n",
       "      <th>1</th>\n",
       "      <td>Are any foods no-go for someone with diabetes?</td>\n",
       "      <td>Avoid sugary drinks, processed snacks, white b...</td>\n",
       "      <td>What are some unhealthy foods for people with ...</td>\n",
       "      <td>Avoid sugary drinks, processed snacks, white b...</td>\n",
       "      <td>0.929724</td>\n",
       "    </tr>\n",
       "    <tr>\n",
       "      <th>2</th>\n",
       "      <td>Are any foods no-go for someone with diabetes?</td>\n",
       "      <td>Avoid sugary drinks, processed snacks, white b...</td>\n",
       "      <td>What should diabetics not eat?</td>\n",
       "      <td>Avoid sugary drinks, processed snacks, white b...</td>\n",
       "      <td>0.923179</td>\n",
       "    </tr>\n",
       "    <tr>\n",
       "      <th>3</th>\n",
       "      <td>Are any foods no-go for someone with diabetes?</td>\n",
       "      <td>Avoid sugary drinks, processed snacks, white b...</td>\n",
       "      <td>What foods should I avoid as a diabetic?</td>\n",
       "      <td>Avoid sugary drinks, processed snacks, white b...</td>\n",
       "      <td>0.920402</td>\n",
       "    </tr>\n",
       "    <tr>\n",
       "      <th>4</th>\n",
       "      <td>Are any foods no-go for someone with diabetes?</td>\n",
       "      <td>Avoid sugary drinks, processed snacks, white b...</td>\n",
       "      <td>Are there low-sugar snacks that are good for p...</td>\n",
       "      <td>Healthy snack options include Greek yogurt, al...</td>\n",
       "      <td>0.905660</td>\n",
       "    </tr>\n",
       "    <tr>\n",
       "      <th>...</th>\n",
       "      <td>...</td>\n",
       "      <td>...</td>\n",
       "      <td>...</td>\n",
       "      <td>...</td>\n",
       "      <td>...</td>\n",
       "    </tr>\n",
       "    <tr>\n",
       "      <th>70</th>\n",
       "      <td>Should I not eat carbohydrates at all as a dia...</td>\n",
       "      <td>Yes, but focus on complex carbs like whole gra...</td>\n",
       "      <td>Should I avoid all carbs with diabetes?</td>\n",
       "      <td>Yes, but focus on complex carbs like whole gra...</td>\n",
       "      <td>0.948491</td>\n",
       "    </tr>\n",
       "    <tr>\n",
       "      <th>71</th>\n",
       "      <td>Should I not eat carbohydrates at all as a dia...</td>\n",
       "      <td>Yes, but focus on complex carbs like whole gra...</td>\n",
       "      <td>Can I eat carbs if I have diabetes?</td>\n",
       "      <td>Yes, but focus on complex carbs like whole gra...</td>\n",
       "      <td>0.929237</td>\n",
       "    </tr>\n",
       "    <tr>\n",
       "      <th>72</th>\n",
       "      <td>Should I not eat carbohydrates at all as a dia...</td>\n",
       "      <td>Yes, but focus on complex carbs like whole gra...</td>\n",
       "      <td>Are carbohydrates bad for diabetics?</td>\n",
       "      <td>Yes, but focus on complex carbs like whole gra...</td>\n",
       "      <td>0.923894</td>\n",
       "    </tr>\n",
       "    <tr>\n",
       "      <th>73</th>\n",
       "      <td>Should I not eat carbohydrates at all as a dia...</td>\n",
       "      <td>Yes, but focus on complex carbs like whole gra...</td>\n",
       "      <td>What should diabetics not eat?</td>\n",
       "      <td>Avoid sugary drinks, processed snacks, white b...</td>\n",
       "      <td>0.905080</td>\n",
       "    </tr>\n",
       "    <tr>\n",
       "      <th>74</th>\n",
       "      <td>Should I not eat carbohydrates at all as a dia...</td>\n",
       "      <td>Yes, but focus on complex carbs like whole gra...</td>\n",
       "      <td>Should I avoid skipping meals as a diabetic?</td>\n",
       "      <td>Skipping meals can lead to low blood sugar. It...</td>\n",
       "      <td>0.904620</td>\n",
       "    </tr>\n",
       "  </tbody>\n",
       "</table>\n",
       "<p>75 rows × 5 columns</p>\n",
       "</div>"
      ],
      "text/plain": [
       "                                        user_question  \\\n",
       "0      Are any foods no-go for someone with diabetes?   \n",
       "1      Are any foods no-go for someone with diabetes?   \n",
       "2      Are any foods no-go for someone with diabetes?   \n",
       "3      Are any foods no-go for someone with diabetes?   \n",
       "4      Are any foods no-go for someone with diabetes?   \n",
       "..                                                ...   \n",
       "70  Should I not eat carbohydrates at all as a dia...   \n",
       "71  Should I not eat carbohydrates at all as a dia...   \n",
       "72  Should I not eat carbohydrates at all as a dia...   \n",
       "73  Should I not eat carbohydrates at all as a dia...   \n",
       "74  Should I not eat carbohydrates at all as a dia...   \n",
       "\n",
       "                                         llm_response  \\\n",
       "0   Avoid sugary drinks, processed snacks, white b...   \n",
       "1   Avoid sugary drinks, processed snacks, white b...   \n",
       "2   Avoid sugary drinks, processed snacks, white b...   \n",
       "3   Avoid sugary drinks, processed snacks, white b...   \n",
       "4   Avoid sugary drinks, processed snacks, white b...   \n",
       "..                                                ...   \n",
       "70  Yes, but focus on complex carbs like whole gra...   \n",
       "71  Yes, but focus on complex carbs like whole gra...   \n",
       "72  Yes, but focus on complex carbs like whole gra...   \n",
       "73  Yes, but focus on complex carbs like whole gra...   \n",
       "74  Yes, but focus on complex carbs like whole gra...   \n",
       "\n",
       "                                             question  \\\n",
       "0   Are there any foods I should stay away from wi...   \n",
       "1   What are some unhealthy foods for people with ...   \n",
       "2                      What should diabetics not eat?   \n",
       "3            What foods should I avoid as a diabetic?   \n",
       "4   Are there low-sugar snacks that are good for p...   \n",
       "..                                                ...   \n",
       "70            Should I avoid all carbs with diabetes?   \n",
       "71                Can I eat carbs if I have diabetes?   \n",
       "72               Are carbohydrates bad for diabetics?   \n",
       "73                     What should diabetics not eat?   \n",
       "74       Should I avoid skipping meals as a diabetic?   \n",
       "\n",
       "                                               answer    cosine  \n",
       "0   Avoid sugary drinks, processed snacks, white b...  0.930672  \n",
       "1   Avoid sugary drinks, processed snacks, white b...  0.929724  \n",
       "2   Avoid sugary drinks, processed snacks, white b...  0.923179  \n",
       "3   Avoid sugary drinks, processed snacks, white b...  0.920402  \n",
       "4   Healthy snack options include Greek yogurt, al...  0.905660  \n",
       "..                                                ...       ...  \n",
       "70  Yes, but focus on complex carbs like whole gra...  0.948491  \n",
       "71  Yes, but focus on complex carbs like whole gra...  0.929237  \n",
       "72  Yes, but focus on complex carbs like whole gra...  0.923894  \n",
       "73  Avoid sugary drinks, processed snacks, white b...  0.905080  \n",
       "74  Skipping meals can lead to low blood sugar. It...  0.904620  \n",
       "\n",
       "[75 rows x 5 columns]"
      ]
     },
     "execution_count": 12,
     "metadata": {},
     "output_type": "execute_result"
    }
   ],
   "source": [
    "rag_df_processed"
   ]
  },
  {
   "cell_type": "code",
   "execution_count": 13,
   "id": "3f1b5738",
   "metadata": {},
   "outputs": [
    {
     "name": "stdout",
     "output_type": "stream",
     "text": [
      "Are any foods no-go for someone with diabetes? Avoid sugary drinks, processed snacks, white bread, and high-sugar desserts.\n",
      "Can you eat berries with diabetes? Yes, you can eat berries with diabetes. They are a good option due to their fiber content. Just watch portion sizes.\n",
      "Can you eat pineapple with diabetes? Sorry, I donʼt have information on that. Please try a different question.\n",
      "Can I eat white bread as a diabetic? Sorry, I donʼt have information on that. Please try a different question.\n",
      "What's a good lunch for someone with diabetes? Sorry, I donʼt have information on that. Please try a different question.\n",
      "Can I drink a caramel cappuccino, if I have diabetes? Sorry, I donʼt have information on that. Please try a different question.\n",
      "I'm considering intermittent fasting. Could it help me maintain my blood sugar? It depends on the individual and medication. Always consult a healthcare provider before starting any fasting regimen.\n",
      "What's your favorite snack? Sorry, I donʼt have information on that. Please try a different question.\n",
      "As a diabetic, should I choose an apple or a cake for dessert? Choosing an apple would be a better option for dessert as it is a fruit that is good for diabetics due to its fiber content. Cake, on the other hand, is typically high in sugar and carbohydrates, which can affect blood sugar levels.\n",
      "As a diabetic, should I skip either lunch or dinner? Skipping meals can lead to low blood sugar. It's better to eat regularly and plan meals carefully.\n",
      "What sports are best for people with diabetes? Sorry, I donʼt have information on that. Please try a different question.\n",
      "Is it better to have a high blood sugar or a low blood sugar? Sorry, I donʼt have information on that. Please try a different question.\n",
      "What can I eat to raise my blood sugar? Sorry, I donʼt have information on that. Please try a different question.\n",
      "Should I not eat carbs at all as a diabetic? Yes, but focus on complex carbs like whole grains, legumes, and vegetables, and control portions.\n",
      "Should I not eat carbohydrates at all as a diabetic? Yes, but focus on complex carbs like whole grains, legumes, and vegetables, and control portions.\n"
     ]
    },
    {
     "data": {
      "text/plain": [
       "0     None\n",
       "5     None\n",
       "10    None\n",
       "15    None\n",
       "20    None\n",
       "25    None\n",
       "30    None\n",
       "35    None\n",
       "40    None\n",
       "45    None\n",
       "50    None\n",
       "55    None\n",
       "60    None\n",
       "65    None\n",
       "70    None\n",
       "dtype: object"
      ]
     },
     "execution_count": 13,
     "metadata": {},
     "output_type": "execute_result"
    }
   ],
   "source": [
    "rag_df_processed[[\"user_question\", \"llm_response\"]].drop_duplicates().apply(lambda x: print(x.user_question, x.llm_response), axis=1)"
   ]
  }
 ],
 "metadata": {
  "kernelspec": {
   "display_name": ".venv",
   "language": "python",
   "name": "python3"
  },
  "language_info": {
   "codemirror_mode": {
    "name": "ipython",
    "version": 3
   },
   "file_extension": ".py",
   "mimetype": "text/x-python",
   "name": "python",
   "nbconvert_exporter": "python",
   "pygments_lexer": "ipython3",
   "version": "3.10.6"
  }
 },
 "nbformat": 4,
 "nbformat_minor": 5
}
